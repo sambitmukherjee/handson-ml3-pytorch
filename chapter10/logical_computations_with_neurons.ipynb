{
  "cells": [
    {
      "cell_type": "markdown",
      "source": [
        "![](https://raw.githubusercontent.com/sambitmukherjee/handson-ml3-pytorch/main/chapter10/Figure_10-3.png)"
      ],
      "metadata": {
        "id": "scb81TWVPRTV"
      },
      "id": "scb81TWVPRTV"
    },
    {
      "cell_type": "markdown",
      "source": [
        "**Source:** Aurelien Geron's book <a href=\"https://www.oreilly.com/library/view/hands-on-machine-learning/9781098125967/\" target=\"_blank\">Hands-On Machine Learning with Scikit-Learn, Keras, and TensorFlow</a>\n",
        "\n",
        "In this notebook, we shall try to implement the above neurons using PyTorch."
      ],
      "metadata": {
        "id": "xsubWC4xPfbG"
      },
      "id": "xsubWC4xPfbG"
    },
    {
      "cell_type": "markdown",
      "source": [
        "If running this notebook in Colab, please ensure that your Hugging Face `HF_TOKEN` is added to your Colab secrets.\n",
        "\n",
        "Alternatively, please login to Hugging Face by running the following cell."
      ],
      "metadata": {
        "id": "CyCuctQd4YWu"
      },
      "id": "CyCuctQd4YWu"
    },
    {
      "cell_type": "code",
      "source": [
        "# !huggingface-cli login"
      ],
      "metadata": {
        "id": "cSbA-Md-4bcN"
      },
      "id": "cSbA-Md-4bcN",
      "execution_count": 1,
      "outputs": []
    },
    {
      "cell_type": "markdown",
      "source": [
        "# IDENTITY"
      ],
      "metadata": {
        "id": "RdASPTngQezy"
      },
      "id": "RdASPTngQezy"
    },
    {
      "cell_type": "code",
      "source": [
        "import torch\n",
        "import torch.nn as nn\n",
        "from huggingface_hub import PyTorchModelHubMixin"
      ],
      "metadata": {
        "id": "KNg-ec5ENAhg"
      },
      "id": "KNg-ec5ENAhg",
      "execution_count": 2,
      "outputs": []
    },
    {
      "cell_type": "markdown",
      "source": [
        "Let's create a column vector containing two values - `0` and `1`."
      ],
      "metadata": {
        "id": "kiXdDPX7TOuI"
      },
      "id": "kiXdDPX7TOuI"
    },
    {
      "cell_type": "code",
      "source": [
        "batch = torch.tensor([[0], [1]])\n",
        "batch"
      ],
      "metadata": {
        "colab": {
          "base_uri": "https://localhost:8080/"
        },
        "id": "ivVjyTW-NMwh",
        "outputId": "8ebd5a38-a4d6-4b99-a9fd-e0e8ca31935b"
      },
      "id": "ivVjyTW-NMwh",
      "execution_count": 3,
      "outputs": [
        {
          "output_type": "execute_result",
          "data": {
            "text/plain": [
              "tensor([[0],\n",
              "        [1]])"
            ]
          },
          "metadata": {},
          "execution_count": 3
        }
      ]
    },
    {
      "cell_type": "code",
      "source": [
        "class IDENTITY(nn.Module, PyTorchModelHubMixin):\n",
        "    \"\"\"\n",
        "    A neuron that performs the IDENTITY logical computation.\n",
        "    It is inspired by McCulloch & Pitts' 1943 paper 'A Logical Calculus of the Ideas Immanent in Nervous Activity'.\n",
        "    It doesn't contain any parameters.\n",
        "    It takes as input a single column vector of zeros and ones. It outputs a single column vector of zeros and ones.\n",
        "    Its mechanism is outlined in Figure 10-3 of Aurelien Geron's book 'Hands-On Machine Learning with Scikit-Learn, Keras, and TensorFlow'.\n",
        "    Like all the other neurons in Figure 10-3, it is activated when at least two of its input connections are active.\n",
        "    \"\"\"\n",
        "\n",
        "    def __init__(self):\n",
        "        super().__init__()\n",
        "        self.operation = \"C = A\"\n",
        "\n",
        "    def forward(self, x):\n",
        "        a = x\n",
        "        inputs = torch.cat([a, a], dim=1)\n",
        "        column_sum = torch.sum(inputs, dim=1, keepdim=True)\n",
        "        output = (column_sum >= 2).long()\n",
        "        return output"
      ],
      "metadata": {
        "id": "YDqHLuYfNSfK"
      },
      "id": "YDqHLuYfNSfK",
      "execution_count": 4,
      "outputs": []
    },
    {
      "cell_type": "code",
      "source": [
        "identity = IDENTITY()\n",
        "identity"
      ],
      "metadata": {
        "colab": {
          "base_uri": "https://localhost:8080/"
        },
        "id": "W_JK3BooOGY8",
        "outputId": "3e308fc9-7468-4bf9-b623-36071fc6b06a"
      },
      "id": "W_JK3BooOGY8",
      "execution_count": 5,
      "outputs": [
        {
          "output_type": "execute_result",
          "data": {
            "text/plain": [
              "IDENTITY()"
            ]
          },
          "metadata": {},
          "execution_count": 5
        }
      ]
    },
    {
      "cell_type": "markdown",
      "source": [
        "Forward pass:"
      ],
      "metadata": {
        "id": "ss2wuOznTbeu"
      },
      "id": "ss2wuOznTbeu"
    },
    {
      "cell_type": "code",
      "source": [
        "identity(batch)"
      ],
      "metadata": {
        "colab": {
          "base_uri": "https://localhost:8080/"
        },
        "id": "YIrQxZvjOKqf",
        "outputId": "fc0bea1e-f2ff-4cd8-9fb4-1733494cad33"
      },
      "id": "YIrQxZvjOKqf",
      "execution_count": 6,
      "outputs": [
        {
          "output_type": "execute_result",
          "data": {
            "text/plain": [
              "tensor([[0],\n",
              "        [1]])"
            ]
          },
          "metadata": {},
          "execution_count": 6
        }
      ]
    },
    {
      "cell_type": "markdown",
      "source": [
        "The IDENTITY operation works.\n",
        "\n",
        "Let's push our model to the Hugging Face Hub."
      ],
      "metadata": {
        "id": "xqfBiokoTgjj"
      },
      "id": "xqfBiokoTgjj"
    },
    {
      "cell_type": "code",
      "source": [
        "# identity.push_to_hub(\"identity\", commit_message=\"made a cosmetic update to the `forward` method\")"
      ],
      "metadata": {
        "id": "iRMR-ZeJOfPK"
      },
      "id": "iRMR-ZeJOfPK",
      "execution_count": 7,
      "outputs": []
    },
    {
      "cell_type": "markdown",
      "source": [
        "# AND"
      ],
      "metadata": {
        "id": "UGpUcYc3PGeh"
      },
      "id": "UGpUcYc3PGeh"
    },
    {
      "cell_type": "markdown",
      "source": [
        "Let's create two column vectors containing `0`s and `1`s."
      ],
      "metadata": {
        "id": "_sdnsYuWS8tQ"
      },
      "id": "_sdnsYuWS8tQ"
    },
    {
      "cell_type": "code",
      "source": [
        "batch = {'a': torch.tensor([[0], [0], [1], [1]]), 'b': torch.tensor([[0], [1], [0], [1]])}\n",
        "batch"
      ],
      "metadata": {
        "colab": {
          "base_uri": "https://localhost:8080/"
        },
        "id": "AmTpBYG-4vRt",
        "outputId": "a993b0b6-8687-403e-c055-e8a8fa0d1b74"
      },
      "id": "AmTpBYG-4vRt",
      "execution_count": 8,
      "outputs": [
        {
          "output_type": "execute_result",
          "data": {
            "text/plain": [
              "{'a': tensor([[0],\n",
              "         [0],\n",
              "         [1],\n",
              "         [1]]),\n",
              " 'b': tensor([[0],\n",
              "         [1],\n",
              "         [0],\n",
              "         [1]])}"
            ]
          },
          "metadata": {},
          "execution_count": 8
        }
      ]
    },
    {
      "cell_type": "markdown",
      "source": [
        "Our objective is to generate the following truth table using a single neuron.\n",
        "\n",
        "| A | B | C |\n",
        "| - | - | - |\n",
        "| 0 | 0 | 0 |\n",
        "| 0 | 1 | 0 |\n",
        "| 1 | 0 | 0 |\n",
        "| 1 | 1 | 1 |"
      ],
      "metadata": {
        "id": "DTg2juT4TblK"
      },
      "id": "DTg2juT4TblK"
    },
    {
      "cell_type": "code",
      "source": [
        "class AND(nn.Module, PyTorchModelHubMixin):\n",
        "    \"\"\"\n",
        "    A neuron that performs the AND logical computation.\n",
        "    It is inspired by McCulloch & Pitts' 1943 paper 'A Logical Calculus of the Ideas Immanent in Nervous Activity'.\n",
        "    It doesn't contain any parameters.\n",
        "    It takes as input two column vectors of zeros and ones. It outputs a single column vector of zeros and ones.\n",
        "    Its mechanism is outlined in Figure 10-3 of Aurelien Geron's book 'Hands-On Machine Learning with Scikit-Learn, Keras, and TensorFlow'.\n",
        "    Like all the other neurons in Figure 10-3, it is activated when at least two of its input connections are active.\n",
        "    \"\"\"\n",
        "\n",
        "    def __init__(self):\n",
        "        super().__init__()\n",
        "        self.operation = \"C = A AND B\"\n",
        "\n",
        "    def forward(self, x):\n",
        "        a = x['a']\n",
        "        b = x['b']\n",
        "        inputs = torch.cat([a, b], axis=1)\n",
        "        column_sum = torch.sum(inputs, dim=1, keepdim=True)\n",
        "        output = (column_sum >= 2).long()\n",
        "        return output"
      ],
      "metadata": {
        "id": "aHI_FTUY5C9F"
      },
      "id": "aHI_FTUY5C9F",
      "execution_count": 9,
      "outputs": []
    },
    {
      "cell_type": "code",
      "source": [
        "logical_and = AND()\n",
        "logical_and"
      ],
      "metadata": {
        "colab": {
          "base_uri": "https://localhost:8080/"
        },
        "id": "ZL4Nw-my5yuY",
        "outputId": "6db10cba-d275-4c37-c199-8bd1d1840dc4"
      },
      "id": "ZL4Nw-my5yuY",
      "execution_count": 10,
      "outputs": [
        {
          "output_type": "execute_result",
          "data": {
            "text/plain": [
              "AND()"
            ]
          },
          "metadata": {},
          "execution_count": 10
        }
      ]
    },
    {
      "cell_type": "markdown",
      "source": [
        "Forward pass:"
      ],
      "metadata": {
        "id": "3q-MJyaWUvCI"
      },
      "id": "3q-MJyaWUvCI"
    },
    {
      "cell_type": "code",
      "source": [
        "logical_and(batch)"
      ],
      "metadata": {
        "colab": {
          "base_uri": "https://localhost:8080/"
        },
        "id": "oah7t26s52w-",
        "outputId": "02760f19-8aef-49aa-b149-c75b8a3217fc"
      },
      "id": "oah7t26s52w-",
      "execution_count": 11,
      "outputs": [
        {
          "output_type": "execute_result",
          "data": {
            "text/plain": [
              "tensor([[0],\n",
              "        [0],\n",
              "        [0],\n",
              "        [1]])"
            ]
          },
          "metadata": {},
          "execution_count": 11
        }
      ]
    },
    {
      "cell_type": "markdown",
      "source": [
        "The AND operation works.\n",
        "\n",
        "Let's push our model to the Hugging Face Hub."
      ],
      "metadata": {
        "id": "eZUI8jWuU5Ko"
      },
      "id": "eZUI8jWuU5Ko"
    },
    {
      "cell_type": "code",
      "source": [
        "# logical_and.push_to_hub(\"and\", commit_message=\"pushing AND\")"
      ],
      "metadata": {
        "id": "L8_8n36qQf4t"
      },
      "id": "L8_8n36qQf4t",
      "execution_count": 12,
      "outputs": []
    },
    {
      "cell_type": "markdown",
      "source": [
        "# OR"
      ],
      "metadata": {
        "id": "Ov1tqBR9Vc8z"
      },
      "id": "Ov1tqBR9Vc8z"
    },
    {
      "cell_type": "markdown",
      "source": [
        "Our objective is to generate the following truth table using a single neuron.\n",
        "\n",
        "| A | B | C |\n",
        "| - | - | - |\n",
        "| 0 | 0 | 0 |\n",
        "| 0 | 1 | 1 |\n",
        "| 1 | 0 | 1 |\n",
        "| 1 | 1 | 1 |"
      ],
      "metadata": {
        "id": "pS3XPeyiVkkf"
      },
      "id": "pS3XPeyiVkkf"
    },
    {
      "cell_type": "code",
      "source": [
        "class OR(nn.Module, PyTorchModelHubMixin):\n",
        "    \"\"\"\n",
        "    A neuron that performs the OR logical computation.\n",
        "    It is inspired by McCulloch & Pitts' 1943 paper 'A Logical Calculus of the Ideas Immanent in Nervous Activity'.\n",
        "    It doesn't contain any parameters.\n",
        "    It takes as input two column vectors of zeros and ones. It outputs a single column vector of zeros and ones.\n",
        "    Its mechanism is outlined in Figure 10-3 of Aurelien Geron's book 'Hands-On Machine Learning with Scikit-Learn, Keras, and TensorFlow'.\n",
        "    Like all the other neurons in Figure 10-3, it is activated when at least two of its input connections are active.\n",
        "    \"\"\"\n",
        "\n",
        "    def __init__(self):\n",
        "        super().__init__()\n",
        "        self.operation = \"C = A OR B\"\n",
        "\n",
        "    def forward(self, x):\n",
        "        a = x['a']\n",
        "        b = x['b']\n",
        "        inputs = torch.cat([a, a, b, b], axis=1)\n",
        "        column_sum = torch.sum(inputs, dim=1, keepdim=True)\n",
        "        output = (column_sum >= 2).long()\n",
        "        return output"
      ],
      "metadata": {
        "id": "pvCndqVx6K-u"
      },
      "id": "pvCndqVx6K-u",
      "execution_count": 13,
      "outputs": []
    },
    {
      "cell_type": "code",
      "source": [
        "logical_or = OR()\n",
        "logical_or"
      ],
      "metadata": {
        "colab": {
          "base_uri": "https://localhost:8080/"
        },
        "id": "d7znMxB06eO3",
        "outputId": "7b72b022-42e5-4d42-b93a-29e7f20b7898"
      },
      "id": "d7znMxB06eO3",
      "execution_count": 14,
      "outputs": [
        {
          "output_type": "execute_result",
          "data": {
            "text/plain": [
              "OR()"
            ]
          },
          "metadata": {},
          "execution_count": 14
        }
      ]
    },
    {
      "cell_type": "markdown",
      "source": [
        "Forward pass:"
      ],
      "metadata": {
        "id": "tYsyri83V411"
      },
      "id": "tYsyri83V411"
    },
    {
      "cell_type": "code",
      "source": [
        "logical_or(batch)"
      ],
      "metadata": {
        "colab": {
          "base_uri": "https://localhost:8080/"
        },
        "id": "SqATbAjc6oXb",
        "outputId": "aed2469b-94da-4e2b-de20-b924d347ca77"
      },
      "id": "SqATbAjc6oXb",
      "execution_count": 15,
      "outputs": [
        {
          "output_type": "execute_result",
          "data": {
            "text/plain": [
              "tensor([[0],\n",
              "        [1],\n",
              "        [1],\n",
              "        [1]])"
            ]
          },
          "metadata": {},
          "execution_count": 15
        }
      ]
    },
    {
      "cell_type": "markdown",
      "source": [
        "The OR operation works.\n",
        "\n",
        "Let's push our model to the Hugging Face Hub."
      ],
      "metadata": {
        "id": "41IOivxOWAYj"
      },
      "id": "41IOivxOWAYj"
    },
    {
      "cell_type": "code",
      "source": [
        "# logical_or.push_to_hub(\"or\", commit_message=\"pushing OR\")"
      ],
      "metadata": {
        "id": "k3vj9nQ4V9BI"
      },
      "id": "k3vj9nQ4V9BI",
      "execution_count": 16,
      "outputs": []
    },
    {
      "cell_type": "markdown",
      "source": [
        "# A AND (NOT B)"
      ],
      "metadata": {
        "id": "gQTSHO36WnXF"
      },
      "id": "gQTSHO36WnXF"
    },
    {
      "cell_type": "markdown",
      "source": [
        "Our objective is to generate the following truth table using a single neuron.\n",
        "\n",
        "| A | B | C |\n",
        "| - | - | - |\n",
        "| 0 | 0 | 0 |\n",
        "| 0 | 1 | 0 |\n",
        "| 1 | 0 | 1 |\n",
        "| 1 | 1 | 0 |"
      ],
      "metadata": {
        "id": "KjWHHaBaWtf2"
      },
      "id": "KjWHHaBaWtf2"
    },
    {
      "cell_type": "code",
      "source": [
        "class A_AND_NOT_B(nn.Module, PyTorchModelHubMixin):\n",
        "    \"\"\"\n",
        "    A neuron that performs the A AND (NOT B) logical computation.\n",
        "    It is inspired by McCulloch & Pitts' 1943 paper 'A Logical Calculus of the Ideas Immanent in Nervous Activity'.\n",
        "    It doesn't contain any parameters.\n",
        "    It takes as input two column vectors of zeros and ones. It outputs a single column vector of zeros and ones.\n",
        "    Its mechanism is outlined in Figure 10-3 of Aurelien Geron's book 'Hands-On Machine Learning with Scikit-Learn, Keras, and TensorFlow'.\n",
        "    Like all the other neurons in Figure 10-3, it is activated when at least two of its input connections are active.\n",
        "    \"\"\"\n",
        "\n",
        "    def __init__(self):\n",
        "        super().__init__()\n",
        "        self.operation = \"C = A AND (NOT B)\"\n",
        "\n",
        "    def forward(self, x):\n",
        "        a = x['a']\n",
        "        b = x['b']\n",
        "        b = -1 * b\n",
        "        inputs = torch.cat([a, a, b], axis=1)\n",
        "        column_sum = torch.sum(inputs, dim=1, keepdim=True)\n",
        "        output = (column_sum >= 2).long()\n",
        "        return output"
      ],
      "metadata": {
        "id": "rjYXAdCg68Xg"
      },
      "id": "rjYXAdCg68Xg",
      "execution_count": 17,
      "outputs": []
    },
    {
      "cell_type": "code",
      "source": [
        "a_and_not_b = A_AND_NOT_B()\n",
        "a_and_not_b"
      ],
      "metadata": {
        "colab": {
          "base_uri": "https://localhost:8080/"
        },
        "id": "psdJoSWD7c5d",
        "outputId": "8f36742f-a681-44ef-921d-869da7bdd592"
      },
      "id": "psdJoSWD7c5d",
      "execution_count": 18,
      "outputs": [
        {
          "output_type": "execute_result",
          "data": {
            "text/plain": [
              "A_AND_NOT_B()"
            ]
          },
          "metadata": {},
          "execution_count": 18
        }
      ]
    },
    {
      "cell_type": "markdown",
      "source": [
        "Forward pass:"
      ],
      "metadata": {
        "id": "WZse7gKNXQgS"
      },
      "id": "WZse7gKNXQgS"
    },
    {
      "cell_type": "code",
      "source": [
        "a_and_not_b(batch)"
      ],
      "metadata": {
        "colab": {
          "base_uri": "https://localhost:8080/"
        },
        "id": "zfcHtcx_7jH3",
        "outputId": "2c1453b0-66b9-4a63-e37c-53c3d8dad6de"
      },
      "id": "zfcHtcx_7jH3",
      "execution_count": 19,
      "outputs": [
        {
          "output_type": "execute_result",
          "data": {
            "text/plain": [
              "tensor([[0],\n",
              "        [0],\n",
              "        [1],\n",
              "        [0]])"
            ]
          },
          "metadata": {},
          "execution_count": 19
        }
      ]
    },
    {
      "cell_type": "markdown",
      "source": [
        "The A AND (NOT B) operation works.\n",
        "\n",
        "Let's push our model to the Hugging Face Hub."
      ],
      "metadata": {
        "id": "uYGLuAhUXXZg"
      },
      "id": "uYGLuAhUXXZg"
    },
    {
      "cell_type": "code",
      "source": [
        "# a_and_not_b.push_to_hub(\"a-and-not-b\", commit_message=\"pushing A_AND_NOT_B\")"
      ],
      "metadata": {
        "id": "dsNtFp9KXTXA"
      },
      "id": "dsNtFp9KXTXA",
      "execution_count": 20,
      "outputs": []
    },
    {
      "cell_type": "code",
      "source": [],
      "metadata": {
        "id": "gHgHoJQoXlXq"
      },
      "id": "gHgHoJQoXlXq",
      "execution_count": 20,
      "outputs": []
    }
  ],
  "metadata": {
    "kernelspec": {
      "display_name": "Python 3 (ipykernel)",
      "language": "python",
      "name": "python3"
    },
    "language_info": {
      "codemirror_mode": {
        "name": "ipython",
        "version": 3
      },
      "file_extension": ".py",
      "mimetype": "text/x-python",
      "name": "python",
      "nbconvert_exporter": "python",
      "pygments_lexer": "ipython3",
      "version": "3.11.5"
    },
    "colab": {
      "provenance": []
    }
  },
  "nbformat": 4,
  "nbformat_minor": 5
}