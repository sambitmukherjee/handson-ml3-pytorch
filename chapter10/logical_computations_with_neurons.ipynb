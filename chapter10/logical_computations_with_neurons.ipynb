{
  "cells": [
    {
      "cell_type": "markdown",
      "source": [
        "![](https://raw.githubusercontent.com/sambitmukherjee/handson-ml3-pytorch/main/chapter10/Figure_10-3.png)"
      ],
      "metadata": {
        "id": "scb81TWVPRTV"
      },
      "id": "scb81TWVPRTV"
    },
    {
      "cell_type": "markdown",
      "source": [
        "**Source:** Aurelien Geron's book <a href=\"https://www.oreilly.com/library/view/hands-on-machine-learning/9781098125967/\" target=\"_blank\">Hands-On Machine Learning with Scikit-Learn, Keras, and TensorFlow</a>\n",
        "\n",
        "In this notebook, we shall try to implement the above neurons using PyTorch."
      ],
      "metadata": {
        "id": "xsubWC4xPfbG"
      },
      "id": "xsubWC4xPfbG"
    },
    {
      "cell_type": "markdown",
      "source": [
        "# IDENTITY"
      ],
      "metadata": {
        "id": "RdASPTngQezy"
      },
      "id": "RdASPTngQezy"
    },
    {
      "cell_type": "code",
      "execution_count": 1,
      "id": "bfc14b46-f7b4-479e-b32c-47269c26aaef",
      "metadata": {
        "id": "bfc14b46-f7b4-479e-b32c-47269c26aaef"
      },
      "outputs": [],
      "source": [
        "import torch\n",
        "import torch.nn as nn\n",
        "from huggingface_hub import PyTorchModelHubMixin"
      ]
    },
    {
      "cell_type": "markdown",
      "source": [
        "Let's create a column vector containing two values - `0` and `1`."
      ],
      "metadata": {
        "id": "kiXdDPX7TOuI"
      },
      "id": "kiXdDPX7TOuI"
    },
    {
      "cell_type": "code",
      "source": [
        "batch = torch.tensor([[0], [1]])\n",
        "batch"
      ],
      "metadata": {
        "colab": {
          "base_uri": "https://localhost:8080/"
        },
        "id": "gBBxvgimQpq4",
        "outputId": "0efd53c2-f661-4f65-928f-08616b377aa7"
      },
      "id": "gBBxvgimQpq4",
      "execution_count": 2,
      "outputs": [
        {
          "output_type": "execute_result",
          "data": {
            "text/plain": [
              "tensor([[0],\n",
              "        [1]])"
            ]
          },
          "metadata": {},
          "execution_count": 2
        }
      ]
    },
    {
      "cell_type": "code",
      "source": [
        "class IDENTITY(nn.Module, PyTorchModelHubMixin):\n",
        "    \"\"\"\n",
        "    A neuron that performs the IDENTITY logical computation.\n",
        "    It is inspired by McCulloch & Pitts' 1943 paper 'A Logical Calculus of the Ideas Immanent in Nervous Activity'.\n",
        "    It doesn't contain any parameters.\n",
        "    It takes as input a single column vector of zeros and ones. It outputs a single column vector of zeros and ones.\n",
        "    Its mechanism is outlined in Figure 10-3 of Aurelien Geron's book 'Hands-On Machine Learning with Scikit-Learn, Keras, and TensorFlow'.\n",
        "    Like all the other neurons in Figure 10-3, it is activated when at least two of its input connections are active.\n",
        "    \"\"\"\n",
        "    def __init__(self):\n",
        "        super().__init__()\n",
        "        self.operation = \"C = A\"\n",
        "\n",
        "    def forward(self, x):\n",
        "        a = x\n",
        "        a = torch.cat([a, a], dim=1)\n",
        "        column_sum = torch.sum(a, dim=1, keepdim=True)\n",
        "        output = (column_sum >= 2).long()\n",
        "        return output"
      ],
      "metadata": {
        "id": "uuB_01NqQzdD"
      },
      "id": "uuB_01NqQzdD",
      "execution_count": 3,
      "outputs": []
    },
    {
      "cell_type": "code",
      "source": [
        "identity = IDENTITY()\n",
        "identity"
      ],
      "metadata": {
        "colab": {
          "base_uri": "https://localhost:8080/"
        },
        "id": "3M_N1AQgR-Xz",
        "outputId": "e864c969-f71e-4ed7-ea1d-5bcb532511ed"
      },
      "id": "3M_N1AQgR-Xz",
      "execution_count": 4,
      "outputs": [
        {
          "output_type": "execute_result",
          "data": {
            "text/plain": [
              "IDENTITY()"
            ]
          },
          "metadata": {},
          "execution_count": 4
        }
      ]
    },
    {
      "cell_type": "markdown",
      "source": [
        "Forward pass:"
      ],
      "metadata": {
        "id": "ss2wuOznTbeu"
      },
      "id": "ss2wuOznTbeu"
    },
    {
      "cell_type": "code",
      "source": [
        "identity(batch)"
      ],
      "metadata": {
        "colab": {
          "base_uri": "https://localhost:8080/"
        },
        "id": "B3dOugQESCdL",
        "outputId": "dcc5e71e-aa40-4f0c-b709-b812b8c9cab6"
      },
      "id": "B3dOugQESCdL",
      "execution_count": 5,
      "outputs": [
        {
          "output_type": "execute_result",
          "data": {
            "text/plain": [
              "tensor([[0],\n",
              "        [1]])"
            ]
          },
          "metadata": {},
          "execution_count": 5
        }
      ]
    },
    {
      "cell_type": "markdown",
      "source": [
        "The IDENTITY operation works.\n",
        "\n",
        "Let's push our model to the Hugging Face Hub."
      ],
      "metadata": {
        "id": "xqfBiokoTgjj"
      },
      "id": "xqfBiokoTgjj"
    },
    {
      "cell_type": "code",
      "source": [
        "identity.push_to_hub(\"identity\", commit_message=\"pushing IDENTITY\")"
      ],
      "metadata": {
        "colab": {
          "base_uri": "https://localhost:8080/",
          "height": 85,
          "referenced_widgets": [
            "f22b64a036ce4277a61524cd59d1f54d",
            "953b13979613413b8ed9c11387e35ca0",
            "9754ddd612c043ae8969eae4814ae749",
            "7c9e0af96a6c4d93aa9959c225d4a049",
            "65e1ea2714ec4e889ef32cec4dc8bfce",
            "77d23107bb624394bef16dc00565574c",
            "40e4f78dcf7e4af6aa8f0a1a72687166",
            "f232c4975a5e49cea14840181322c94d",
            "52b3e107f9934b07a1e935df5d9d7a91",
            "9058fe862cf446b1b05403f8642776dc",
            "cd7392d96fe741a8a092acbb54fc6d23"
          ]
        },
        "id": "xmUzsBlNSFfU",
        "outputId": "b22996ce-09cf-45ec-b9d3-b42dddb5b579"
      },
      "id": "xmUzsBlNSFfU",
      "execution_count": 6,
      "outputs": [
        {
          "output_type": "display_data",
          "data": {
            "text/plain": [
              "pytorch_model.bin:   0%|          | 0.00/952 [00:00<?, ?B/s]"
            ],
            "application/vnd.jupyter.widget-view+json": {
              "version_major": 2,
              "version_minor": 0,
              "model_id": "f22b64a036ce4277a61524cd59d1f54d"
            }
          },
          "metadata": {}
        },
        {
          "output_type": "execute_result",
          "data": {
            "text/plain": [
              "CommitInfo(commit_url='https://huggingface.co/sadhaklal/identity/commit/e447ffc35fc8e7843af953f91dc926c79c3f7329', commit_message='pushing IDENTITY', commit_description='', oid='e447ffc35fc8e7843af953f91dc926c79c3f7329', pr_url=None, pr_revision=None, pr_num=None)"
            ],
            "application/vnd.google.colaboratory.intrinsic+json": {
              "type": "string"
            }
          },
          "metadata": {},
          "execution_count": 6
        }
      ]
    }
  ],
  "metadata": {
    "kernelspec": {
      "display_name": "Python 3 (ipykernel)",
      "language": "python",
      "name": "python3"
    },
    "language_info": {
      "codemirror_mode": {
        "name": "ipython",
        "version": 3
      },
      "file_extension": ".py",
      "mimetype": "text/x-python",
      "name": "python",
      "nbconvert_exporter": "python",
      "pygments_lexer": "ipython3",
      "version": "3.11.5"
    },
    "colab": {
      "provenance": []
    },
    "widgets": {
      "application/vnd.jupyter.widget-state+json": {
        "f22b64a036ce4277a61524cd59d1f54d": {
          "model_module": "@jupyter-widgets/controls",
          "model_name": "HBoxModel",
          "model_module_version": "1.5.0",
          "state": {
            "_dom_classes": [],
            "_model_module": "@jupyter-widgets/controls",
            "_model_module_version": "1.5.0",
            "_model_name": "HBoxModel",
            "_view_count": null,
            "_view_module": "@jupyter-widgets/controls",
            "_view_module_version": "1.5.0",
            "_view_name": "HBoxView",
            "box_style": "",
            "children": [
              "IPY_MODEL_953b13979613413b8ed9c11387e35ca0",
              "IPY_MODEL_9754ddd612c043ae8969eae4814ae749",
              "IPY_MODEL_7c9e0af96a6c4d93aa9959c225d4a049"
            ],
            "layout": "IPY_MODEL_65e1ea2714ec4e889ef32cec4dc8bfce"
          }
        },
        "953b13979613413b8ed9c11387e35ca0": {
          "model_module": "@jupyter-widgets/controls",
          "model_name": "HTMLModel",
          "model_module_version": "1.5.0",
          "state": {
            "_dom_classes": [],
            "_model_module": "@jupyter-widgets/controls",
            "_model_module_version": "1.5.0",
            "_model_name": "HTMLModel",
            "_view_count": null,
            "_view_module": "@jupyter-widgets/controls",
            "_view_module_version": "1.5.0",
            "_view_name": "HTMLView",
            "description": "",
            "description_tooltip": null,
            "layout": "IPY_MODEL_77d23107bb624394bef16dc00565574c",
            "placeholder": "​",
            "style": "IPY_MODEL_40e4f78dcf7e4af6aa8f0a1a72687166",
            "value": "pytorch_model.bin: 100%"
          }
        },
        "9754ddd612c043ae8969eae4814ae749": {
          "model_module": "@jupyter-widgets/controls",
          "model_name": "FloatProgressModel",
          "model_module_version": "1.5.0",
          "state": {
            "_dom_classes": [],
            "_model_module": "@jupyter-widgets/controls",
            "_model_module_version": "1.5.0",
            "_model_name": "FloatProgressModel",
            "_view_count": null,
            "_view_module": "@jupyter-widgets/controls",
            "_view_module_version": "1.5.0",
            "_view_name": "ProgressView",
            "bar_style": "success",
            "description": "",
            "description_tooltip": null,
            "layout": "IPY_MODEL_f232c4975a5e49cea14840181322c94d",
            "max": 952,
            "min": 0,
            "orientation": "horizontal",
            "style": "IPY_MODEL_52b3e107f9934b07a1e935df5d9d7a91",
            "value": 952
          }
        },
        "7c9e0af96a6c4d93aa9959c225d4a049": {
          "model_module": "@jupyter-widgets/controls",
          "model_name": "HTMLModel",
          "model_module_version": "1.5.0",
          "state": {
            "_dom_classes": [],
            "_model_module": "@jupyter-widgets/controls",
            "_model_module_version": "1.5.0",
            "_model_name": "HTMLModel",
            "_view_count": null,
            "_view_module": "@jupyter-widgets/controls",
            "_view_module_version": "1.5.0",
            "_view_name": "HTMLView",
            "description": "",
            "description_tooltip": null,
            "layout": "IPY_MODEL_9058fe862cf446b1b05403f8642776dc",
            "placeholder": "​",
            "style": "IPY_MODEL_cd7392d96fe741a8a092acbb54fc6d23",
            "value": " 952/952 [00:00&lt;00:00, 7.38kB/s]"
          }
        },
        "65e1ea2714ec4e889ef32cec4dc8bfce": {
          "model_module": "@jupyter-widgets/base",
          "model_name": "LayoutModel",
          "model_module_version": "1.2.0",
          "state": {
            "_model_module": "@jupyter-widgets/base",
            "_model_module_version": "1.2.0",
            "_model_name": "LayoutModel",
            "_view_count": null,
            "_view_module": "@jupyter-widgets/base",
            "_view_module_version": "1.2.0",
            "_view_name": "LayoutView",
            "align_content": null,
            "align_items": null,
            "align_self": null,
            "border": null,
            "bottom": null,
            "display": null,
            "flex": null,
            "flex_flow": null,
            "grid_area": null,
            "grid_auto_columns": null,
            "grid_auto_flow": null,
            "grid_auto_rows": null,
            "grid_column": null,
            "grid_gap": null,
            "grid_row": null,
            "grid_template_areas": null,
            "grid_template_columns": null,
            "grid_template_rows": null,
            "height": null,
            "justify_content": null,
            "justify_items": null,
            "left": null,
            "margin": null,
            "max_height": null,
            "max_width": null,
            "min_height": null,
            "min_width": null,
            "object_fit": null,
            "object_position": null,
            "order": null,
            "overflow": null,
            "overflow_x": null,
            "overflow_y": null,
            "padding": null,
            "right": null,
            "top": null,
            "visibility": null,
            "width": null
          }
        },
        "77d23107bb624394bef16dc00565574c": {
          "model_module": "@jupyter-widgets/base",
          "model_name": "LayoutModel",
          "model_module_version": "1.2.0",
          "state": {
            "_model_module": "@jupyter-widgets/base",
            "_model_module_version": "1.2.0",
            "_model_name": "LayoutModel",
            "_view_count": null,
            "_view_module": "@jupyter-widgets/base",
            "_view_module_version": "1.2.0",
            "_view_name": "LayoutView",
            "align_content": null,
            "align_items": null,
            "align_self": null,
            "border": null,
            "bottom": null,
            "display": null,
            "flex": null,
            "flex_flow": null,
            "grid_area": null,
            "grid_auto_columns": null,
            "grid_auto_flow": null,
            "grid_auto_rows": null,
            "grid_column": null,
            "grid_gap": null,
            "grid_row": null,
            "grid_template_areas": null,
            "grid_template_columns": null,
            "grid_template_rows": null,
            "height": null,
            "justify_content": null,
            "justify_items": null,
            "left": null,
            "margin": null,
            "max_height": null,
            "max_width": null,
            "min_height": null,
            "min_width": null,
            "object_fit": null,
            "object_position": null,
            "order": null,
            "overflow": null,
            "overflow_x": null,
            "overflow_y": null,
            "padding": null,
            "right": null,
            "top": null,
            "visibility": null,
            "width": null
          }
        },
        "40e4f78dcf7e4af6aa8f0a1a72687166": {
          "model_module": "@jupyter-widgets/controls",
          "model_name": "DescriptionStyleModel",
          "model_module_version": "1.5.0",
          "state": {
            "_model_module": "@jupyter-widgets/controls",
            "_model_module_version": "1.5.0",
            "_model_name": "DescriptionStyleModel",
            "_view_count": null,
            "_view_module": "@jupyter-widgets/base",
            "_view_module_version": "1.2.0",
            "_view_name": "StyleView",
            "description_width": ""
          }
        },
        "f232c4975a5e49cea14840181322c94d": {
          "model_module": "@jupyter-widgets/base",
          "model_name": "LayoutModel",
          "model_module_version": "1.2.0",
          "state": {
            "_model_module": "@jupyter-widgets/base",
            "_model_module_version": "1.2.0",
            "_model_name": "LayoutModel",
            "_view_count": null,
            "_view_module": "@jupyter-widgets/base",
            "_view_module_version": "1.2.0",
            "_view_name": "LayoutView",
            "align_content": null,
            "align_items": null,
            "align_self": null,
            "border": null,
            "bottom": null,
            "display": null,
            "flex": null,
            "flex_flow": null,
            "grid_area": null,
            "grid_auto_columns": null,
            "grid_auto_flow": null,
            "grid_auto_rows": null,
            "grid_column": null,
            "grid_gap": null,
            "grid_row": null,
            "grid_template_areas": null,
            "grid_template_columns": null,
            "grid_template_rows": null,
            "height": null,
            "justify_content": null,
            "justify_items": null,
            "left": null,
            "margin": null,
            "max_height": null,
            "max_width": null,
            "min_height": null,
            "min_width": null,
            "object_fit": null,
            "object_position": null,
            "order": null,
            "overflow": null,
            "overflow_x": null,
            "overflow_y": null,
            "padding": null,
            "right": null,
            "top": null,
            "visibility": null,
            "width": null
          }
        },
        "52b3e107f9934b07a1e935df5d9d7a91": {
          "model_module": "@jupyter-widgets/controls",
          "model_name": "ProgressStyleModel",
          "model_module_version": "1.5.0",
          "state": {
            "_model_module": "@jupyter-widgets/controls",
            "_model_module_version": "1.5.0",
            "_model_name": "ProgressStyleModel",
            "_view_count": null,
            "_view_module": "@jupyter-widgets/base",
            "_view_module_version": "1.2.0",
            "_view_name": "StyleView",
            "bar_color": null,
            "description_width": ""
          }
        },
        "9058fe862cf446b1b05403f8642776dc": {
          "model_module": "@jupyter-widgets/base",
          "model_name": "LayoutModel",
          "model_module_version": "1.2.0",
          "state": {
            "_model_module": "@jupyter-widgets/base",
            "_model_module_version": "1.2.0",
            "_model_name": "LayoutModel",
            "_view_count": null,
            "_view_module": "@jupyter-widgets/base",
            "_view_module_version": "1.2.0",
            "_view_name": "LayoutView",
            "align_content": null,
            "align_items": null,
            "align_self": null,
            "border": null,
            "bottom": null,
            "display": null,
            "flex": null,
            "flex_flow": null,
            "grid_area": null,
            "grid_auto_columns": null,
            "grid_auto_flow": null,
            "grid_auto_rows": null,
            "grid_column": null,
            "grid_gap": null,
            "grid_row": null,
            "grid_template_areas": null,
            "grid_template_columns": null,
            "grid_template_rows": null,
            "height": null,
            "justify_content": null,
            "justify_items": null,
            "left": null,
            "margin": null,
            "max_height": null,
            "max_width": null,
            "min_height": null,
            "min_width": null,
            "object_fit": null,
            "object_position": null,
            "order": null,
            "overflow": null,
            "overflow_x": null,
            "overflow_y": null,
            "padding": null,
            "right": null,
            "top": null,
            "visibility": null,
            "width": null
          }
        },
        "cd7392d96fe741a8a092acbb54fc6d23": {
          "model_module": "@jupyter-widgets/controls",
          "model_name": "DescriptionStyleModel",
          "model_module_version": "1.5.0",
          "state": {
            "_model_module": "@jupyter-widgets/controls",
            "_model_module_version": "1.5.0",
            "_model_name": "DescriptionStyleModel",
            "_view_count": null,
            "_view_module": "@jupyter-widgets/base",
            "_view_module_version": "1.2.0",
            "_view_name": "StyleView",
            "description_width": ""
          }
        }
      }
    }
  },
  "nbformat": 4,
  "nbformat_minor": 5
}